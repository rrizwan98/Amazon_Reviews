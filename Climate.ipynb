{
  "nbformat": 4,
  "nbformat_minor": 0,
  "metadata": {
    "colab": {
      "name": "Climate.ipynb",
      "provenance": [],
      "authorship_tag": "ABX9TyOzv4bnzz769P0LdjVARoEQ",
      "include_colab_link": true
    },
    "kernelspec": {
      "name": "python3",
      "display_name": "Python 3"
    }
  },
  "cells": [
    {
      "cell_type": "markdown",
      "metadata": {
        "id": "view-in-github",
        "colab_type": "text"
      },
      "source": [
        "<a href=\"https://colab.research.google.com/github/rrizwan98/Amazon_Reviews/blob/main/Climate.ipynb\" target=\"_parent\"><img src=\"https://colab.research.google.com/assets/colab-badge.svg\" alt=\"Open In Colab\"/></a>"
      ]
    },
    {
      "cell_type": "code",
      "metadata": {
        "id": "f-wVyEM2JzyB",
        "colab": {
          "base_uri": "https://localhost:8080/",
          "height": 34
        },
        "outputId": "012de4ec-6210-47af-8451-732c0c796aa5"
      },
      "source": [
        "from google.colab import drive\n",
        "drive.mount('/content/derive')"
      ],
      "execution_count": null,
      "outputs": [
        {
          "output_type": "stream",
          "text": [
            "Mounted at /content/derive\n"
          ],
          "name": "stdout"
        }
      ]
    },
    {
      "cell_type": "code",
      "metadata": {
        "id": "DC3mSgFSKN_s",
        "colab": {
          "base_uri": "https://localhost:8080/",
          "height": 34
        },
        "outputId": "2a09dd4d-05fb-4174-db90-a3204ae82c0e"
      },
      "source": [
        "# jena_climate data to unzip form\n",
        "\n",
        "from zipfile import ZipFile\n",
        "file_name='/content/derive/My Drive/jena_climate.zip'\n",
        "with ZipFile(file_name , 'r') as zip:\n",
        "  zip.extractall()\n",
        "  print('raza')\n"
      ],
      "execution_count": null,
      "outputs": [
        {
          "output_type": "stream",
          "text": [
            "raza\n"
          ],
          "name": "stdout"
        }
      ]
    },
    {
      "cell_type": "code",
      "metadata": {
        "id": "IFwNoH20LRZy"
      },
      "source": [
        "# import important libraries\n",
        "\n",
        "import numpy as np\n",
        "import pandas as pd\n",
        "import os"
      ],
      "execution_count": null,
      "outputs": []
    },
    {
      "cell_type": "code",
      "metadata": {
        "id": "KQDkhmlDT81w",
        "colab": {
          "base_uri": "https://localhost:8080/",
          "height": 34
        },
        "outputId": "03f80ed2-fd2a-44f2-da98-a73e28cbb816"
      },
      "source": [
        "#create directory to and apth join\n",
        "\n",
        "data_dir = '../input/'\n",
        "fname = os.path.join(data_dir,'/content/jena_climate_2009_2016.csv')\n",
        "print(fname)"
      ],
      "execution_count": null,
      "outputs": [
        {
          "output_type": "stream",
          "text": [
            "/content/jena_climate_2009_2016.csv\n"
          ],
          "name": "stdout"
        }
      ]
    },
    {
      "cell_type": "code",
      "metadata": {
        "id": "5k7vJ1k1VrzX",
        "colab": {
          "base_uri": "https://localhost:8080/",
          "height": 88
        },
        "outputId": "209a4e8f-f986-4319-acff-9563b26b4230"
      },
      "source": [
        "f=open(fname)\n",
        "data=f.read()\n",
        "f.close\n",
        "\n",
        "lines=data.split('\\n')\n",
        "header=lines[0].split(',')\n",
        "lines=lines[1:]\n",
        "\n",
        "print(header)\n",
        "print(len(lines))\n",
        "print(lines[0])"
      ],
      "execution_count": null,
      "outputs": [
        {
          "output_type": "stream",
          "text": [
            "['\"Date Time\"', '\"p (mbar)\"', '\"T (degC)\"', '\"Tpot (K)\"', '\"Tdew (degC)\"', '\"rh (%)\"', '\"VPmax (mbar)\"', '\"VPact (mbar)\"', '\"VPdef (mbar)\"', '\"sh (g/kg)\"', '\"H2OC (mmol/mol)\"', '\"rho (g/m**3)\"', '\"wv (m/s)\"', '\"max. wv (m/s)\"', '\"wd (deg)\"']\n",
            "420551\n",
            "01.01.2009 00:10:00,996.52,-8.02,265.40,-8.90,93.30,3.33,3.11,0.22,1.94,3.12,1307.75,1.03,1.75,152.30\n"
          ],
          "name": "stdout"
        }
      ]
    },
    {
      "cell_type": "code",
      "metadata": {
        "id": "NqEoxEtFd0-d"
      },
      "source": [
        "float_data=np.zeros((len(lines) , len(header) -1))\n",
        "for i , line in enumerate(lines):\n",
        "  value=[float(x) for x in line.split(',')[1:]] \n",
        "  float_data[1 , :] = value"
      ],
      "execution_count": null,
      "outputs": []
    },
    {
      "cell_type": "code",
      "metadata": {
        "id": "8qGa8q3bd19O",
        "colab": {
          "base_uri": "https://localhost:8080/",
          "height": 351
        },
        "outputId": "971a6a15-48ad-48c5-d384-6866b67e5c07"
      },
      "source": [
        "import matplotlib.pyplot as plt\n",
        "\n",
        "temp=float_data[:,1]\n",
        "plt.figure(figsize=(12,5))\n",
        "plt.xticks(fontsize=25)\n",
        "plt.yticks(fontsize=25)\n",
        "plt.plot(range(len(temp)),temp)\n"
      ],
      "execution_count": null,
      "outputs": [
        {
          "output_type": "execute_result",
          "data": {
            "text/plain": [
              "[<matplotlib.lines.Line2D at 0x7f6e7242e588>]"
            ]
          },
          "metadata": {
            "tags": []
          },
          "execution_count": 8
        },
        {
          "output_type": "display_data",
          "data": {
            "image/png": "[encoded data removed]",
            "text/plain": [
              "<Figure size 864x360 with 1 Axes>"
            ]
          },
          "metadata": {
            "tags": [],
            "needs_background": "light"
          }
        }
      ]
    },
    {
      "cell_type": "code",
      "metadata": {
        "id": "vlMfhJ1fZnVM",
        "colab": {
          "base_uri": "https://localhost:8080/",
          "height": 320
        },
        "outputId": "f86b51a7-d71e-48da-8aa3-027a20002044"
      },
      "source": [
        "plt.figure(figsize=(10,5))\n",
        "plt.xticks(fontsize=10)\n",
        "plt.yticks(fontsize=10)\n",
        "plt.plot(range(1440) , temp[:1440])\n",
        "plt.show()"
      ],
      "execution_count": null,
      "outputs": [
        {
          "output_type": "display_data",
          "data": {
            "image/png": "[encoded data removed]",
            "text/plain": [
              "<Figure size 720x360 with 1 Axes>"
            ]
          },
          "metadata": {
            "tags": [],
            "needs_background": "light"
          }
        }
      ]
    },
    {
      "cell_type": "code",
      "metadata": {
        "id": "0VcUQ4SPapEE",
        "colab": {
          "base_uri": "https://localhost:8080/",
          "height": 85
        },
        "outputId": "92f5b1cc-fb8a-40eb-d790-a68cc0671724"
      },
      "source": [
        "mean=float_data[:200000].mean (axis=0)\n",
        "float_data -=mean\n",
        "std=float_data[:200000].std(axis=0)\n",
        "float_data /=std\n",
        "std"
      ],
      "execution_count": null,
      "outputs": [
        {
          "output_type": "execute_result",
          "data": {
            "text/plain": [
              "array([2.23565990e+00, 1.07778207e-02, 6.00069702e-01, 1.88276453e-02,\n",
              "       1.69269923e-01, 9.54798639e-03, 7.22248151e-03, 2.32550488e-03,\n",
              "       4.49448540e-03, 7.22248151e-03, 2.89878656e+00, 2.75035674e-03,\n",
              "       4.38268228e-03, 4.13447935e-01])"
            ]
          },
          "metadata": {
            "tags": []
          },
          "execution_count": 10
        }
      ]
    },
    {
      "cell_type": "code",
      "metadata": {
        "id": "NOLj-74KjVHX"
      },
      "source": [
        "def generator(data, lookback, delay, min_index, max_index,shuffle=False, batch_size=128, step=6):\n",
        "    if max_index is None:\n",
        "        max_index = len(data) - delay - 1\n",
        "    \n",
        "    i = min_index + lookback\n",
        "    while True:\n",
        "        if shuffle:\n",
        "            rows = np.random.randint(min_index + lookback, max_index, size = batch_size)\n",
        "        else:\n",
        "            if i + batch_size >= max_index:\n",
        "                i = min_index + lookback\n",
        "            rows = np.arange(i, min(i + batch_size, max_index))\n",
        "            i += len(rows)\n",
        "        samples = np.zeros((len(rows),lookback//step,data.shape[1]))\n",
        "            \n",
        "        targets = np.zeros((len(rows),))\n",
        "        #print('Rows:',rows[:3])\n",
        "        for j, row in enumerate(rows):\n",
        "            indices = range(rows[j] - lookback, rows[j], step)\n",
        "            samples[j] = data[indices]\n",
        "            targets[j] = data[rows[j] + delay][1]\n",
        "        yield samples, targets\n"
      ],
      "execution_count": null,
      "outputs": []
    },
    {
      "cell_type": "code",
      "metadata": {
        "id": "Lj_2ncmgcTcY"
      },
      "source": [
        "lookback=1440\n",
        "step=6\n",
        "delay=144\n",
        "batch_size=128\n",
        "\n",
        "train_gen=generator(float_data,\n",
        "                    lookback=lookback,\n",
        "                    delay=delay,\n",
        "                    min_index=0,\n",
        "                    max_index=200000,\n",
        "                    shuffle=True,\n",
        "                    step=step,\n",
        "                    batch_size=batch_size)\n",
        "val_gen=generator(float_data,\n",
        "                  lookback=lookback,\n",
        "                  delay=delay,\n",
        "                  min_index=200001,\n",
        "                  max_index=300000,\n",
        "                  shuffle=True,\n",
        "                  step=step,\n",
        "                  batch_size=batch_size)\n",
        "test_gen=generator(float_data,\n",
        "                   lookback=lookback,\n",
        "                   delay=delay,\n",
        "                   min_index=300001,\n",
        "                   max_index=None,\n",
        "                   shuffle=True,\n",
        "                   step=step,\n",
        "                   batch_size=batch_size)\n",
        "\n",
        "val_steps=(300000-200001-lookback)//batch_size\n",
        "test_steps=(len(float_data)-300001)//batch_size"
      ],
      "execution_count": null,
      "outputs": []
    },
    {
      "cell_type": "code",
      "metadata": {
        "id": "MA-kXcNDpVNR",
        "colab": {
          "base_uri": "https://localhost:8080/",
          "height": 255
        },
        "outputId": "a2cba33b-1a85-4c6b-d24e-760ab2754ec4"
      },
      "source": [
        "from keras.models import Sequential\n",
        "from keras.layers import Flatten,Dense\n",
        "from keras.optimizers import RMSprop\n",
        "\n",
        "model = Sequential()\n",
        "model.add(Flatten(input_shape=(lookback//step,float_data.shape[-1])))\n",
        "model.add(Dense(32, activation='relu'))\n",
        "model.add(Dense(1))\n",
        "model.compile(optimizer=RMSprop(),loss='mae', metrics=['acc'])\n",
        "model.summary()"
      ],
      "execution_count": null,
      "outputs": [
        {
          "output_type": "stream",
          "text": [
            "Model: \"sequential_2\"\n",
            "_________________________________________________________________\n",
            "Layer (type)                 Output Shape              Param #   \n",
            "=================================================================\n",
            "flatten_2 (Flatten)          (None, 3360)              0         \n",
            "_________________________________________________________________\n",
            "dense_4 (Dense)              (None, 32)                107552    \n",
            "_________________________________________________________________\n",
            "dense_5 (Dense)              (None, 1)                 33        \n",
            "=================================================================\n",
            "Total params: 107,585\n",
            "Trainable params: 107,585\n",
            "Non-trainable params: 0\n",
            "_________________________________________________________________\n"
          ],
          "name": "stdout"
        }
      ]
    },
    {
      "cell_type": "code",
      "metadata": {
        "id": "H1oQYvt2qo21",
        "colab": {
          "base_uri": "https://localhost:8080/",
          "height": 187
        },
        "outputId": "9df20924-3d38-4db5-fdfd-324add8deef2"
      },
      "source": [
        "history = model.fit_generator(train_gen,steps_per_epoch=500,epochs=5,validation_data=val_gen,validation_steps=val_steps)"
      ],
      "execution_count": null,
      "outputs": [
        {
          "output_type": "stream",
          "text": [
            "Epoch 1/5\n",
            "500/500 [==============================] - 16s 32ms/step - loss: 0.0010 - acc: 0.0000e+00 - val_loss: 9.8555e-04 - val_acc: 0.0000e+00\n",
            "Epoch 2/5\n",
            "500/500 [==============================] - 16s 32ms/step - loss: 8.4217e-04 - acc: 0.0000e+00 - val_loss: 0.0000e+00 - val_acc: 0.0000e+00\n",
            "Epoch 3/5\n",
            "500/500 [==============================] - 16s 32ms/step - loss: 0.0000e+00 - acc: 0.0000e+00 - val_loss: 0.0000e+00 - val_acc: 0.0000e+00\n",
            "Epoch 4/5\n",
            "500/500 [==============================] - 16s 32ms/step - loss: 0.0000e+00 - acc: 0.0000e+00 - val_loss: 0.0000e+00 - val_acc: 0.0000e+00\n",
            "Epoch 5/5\n",
            "500/500 [==============================] - 16s 32ms/step - loss: 4.6035e-04 - acc: 0.0000e+00 - val_loss: 0.0000e+00 - val_acc: 0.0000e+00\n"
          ],
          "name": "stdout"
        }
      ]
    },
    {
      "cell_type": "code",
      "metadata": {
        "id": "HsOQzugUoVSr",
        "colab": {
          "base_uri": "https://localhost:8080/",
          "height": 579
        },
        "outputId": "35986c72-0591-491f-f4d6-51961b17cfbf"
      },
      "source": [
        "import matplotlib.pyplot as plt\n",
        "acc=history.history['acc']\n",
        "val_acc=history.history['val_acc']\n",
        "loss=history.history['loss']\n",
        "val_loss=history.history['val_loss']\n",
        "\n",
        "epochs=range(1,len(acc)+1)\n",
        "\n",
        "plt.plot(epochs , acc , 'bo' , label='Train_accuracy')\n",
        "plt.plot(epochs , val_acc , 'b' ,label='Validation_accuracy')\n",
        "plt.title('Training and Validation Accuracy')\n",
        "plt.legend()\n",
        "\n",
        "plt.figure()\n",
        "\n",
        "plt.plot(epochs , loss , 'bo' ,label='Loss')\n",
        "plt.plot(epochs , val_loss , 'b', label='Val_loss')\n",
        "plt.title('Training and Validation loss')\n",
        "plt.legend()\n",
        "\n",
        "plt.figure()"
      ],
      "execution_count": null,
      "outputs": [
        {
          "output_type": "execute_result",
          "data": {
            "text/plain": [
              "<Figure size 432x288 with 0 Axes>"
            ]
          },
          "metadata": {
            "tags": []
          },
          "execution_count": 21
        },
        {
          "output_type": "display_data",
          "data": {
            "image/png": "[encoded data removed]",
            "text/plain": [
              "<Figure size 432x288 with 1 Axes>"
            ]
          },
          "metadata": {
            "tags": [],
            "needs_background": "light"
          }
        },
        {
          "output_type": "display_data",
          "data": {
            "image/png": "[encoded data removed]",
            "text/plain": [
              "<Figure size 432x288 with 1 Axes>"
            ]
          },
          "metadata": {
            "tags": [],
            "needs_background": "light"
          }
        },
        {
          "output_type": "display_data",
          "data": {
            "text/plain": [
              "<Figure size 432x288 with 0 Axes>"
            ]
          },
          "metadata": {
            "tags": []
          }
        }
      ]
    },
    {
      "cell_type": "code",
      "metadata": {
        "id": "kFMKw3IVrZNP"
      },
      "source": [
        "model.evaluate(train_gen, batch_size=128 , verbose=2)"
      ],
      "execution_count": null,
      "outputs": []
    },
    {
      "cell_type": "code",
      "metadata": {
        "id": "VwHs2jtIwpSc"
      },
      "source": [
        "from keras.layers import GRU\n",
        "\n",
        "model_2=SEquential()\n",
        "model_2.add(GRU(32,input_shape=(None , float_data.shape[-1])))\n",
        "model_2.add(Dense(1))\n",
        "model_2.compile(optimizer=RMSprop() , loss='mae')\n",
        "model_2.fit(train_gen , steps_per_epochs=500 , epochs=10 , validation_data=val_gen , validation_data=val_steps)"
      ],
      "execution_count": null,
      "outputs": []
    },
    {
      "cell_type": "code",
      "metadata": {
        "id": "vKRbJsfcrJpS"
      },
      "source": [
        ""
      ],
      "execution_count": null,
      "outputs": []
    }
  ]
}